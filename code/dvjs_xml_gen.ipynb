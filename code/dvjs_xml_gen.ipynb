{
 "cells": [
  {
   "cell_type": "code",
   "execution_count": 1,
   "metadata": {},
   "outputs": [],
   "source": [
    "import pandas as pd\n",
    "from lxml import etree\n",
    "import re\n",
    "import numpy as np\n",
    "import pickle as pkl\n",
    "from collections import Counter"
   ]
  },
  {
   "cell_type": "code",
   "execution_count": 2,
   "metadata": {},
   "outputs": [],
   "source": [
    "result = pkl.load(open(\"dvjs_pred.pkl\",\"rb\"))"
   ]
  },
  {
   "cell_type": "code",
   "execution_count": 3,
   "metadata": {},
   "outputs": [],
   "source": [
    "data = pd.read_csv(\"./../data/dvjs_all_bibl.tsv\", sep=\"\\t\", index_col=0)"
   ]
  },
  {
   "cell_type": "code",
   "execution_count": 4,
   "metadata": {},
   "outputs": [],
   "source": [
    "new_notes = []\n",
    "i = 0\n",
    "for index,row in data.iterrows():\n",
    "    if i == 104470:\n",
    "        break\n",
    "    pred = result[i]\n",
    "    text = row[\"text\"].split(\" \")\n",
    "    output = \"\"\n",
    "    \n",
    "    name = False\n",
    "    c = 0\n",
    "    for token in text:\n",
    "        \n",
    "        if pred[c] == 0:\n",
    "            if name == True:\n",
    "                output+=\"</name>\"+token+\" \"\n",
    "            else:\n",
    "                output+=token+\" \"\n",
    "            name = False\n",
    "        else:\n",
    "            \n",
    "            if name == True:\n",
    "                output+=token+\" \"\n",
    "            else:\n",
    "                output+=\"<name>\"+token+\" \"\n",
    "            name = True\n",
    "        c+=1\n",
    "        if c == 100:\n",
    "            break\n",
    "    \n",
    "    i+=1\n",
    "    new_notes.append(output)"
   ]
  },
  {
   "cell_type": "code",
   "execution_count": 5,
   "metadata": {},
   "outputs": [],
   "source": [
    "new_notes.append(\"*) Kupferstich von 1626 in der Stadtbibliothek  Frankfurt a. M.\")"
   ]
  },
  {
   "cell_type": "code",
   "execution_count": 6,
   "metadata": {},
   "outputs": [],
   "source": [
    "data[\"parsed\"] = new_notes"
   ]
  },
  {
   "cell_type": "code",
   "execution_count": 7,
   "metadata": {},
   "outputs": [],
   "source": [
    "author = []\n",
    "for r in result:   \n",
    "    if 1 in r:\n",
    "        author.append(\"yes\")\n",
    "    else:\n",
    "        author.append(\"no\")"
   ]
  },
  {
   "cell_type": "code",
   "execution_count": 8,
   "metadata": {},
   "outputs": [],
   "source": [
    "author.append(\"no\")"
   ]
  },
  {
   "cell_type": "code",
   "execution_count": 9,
   "metadata": {},
   "outputs": [],
   "source": [
    "data[\"author\"] = author"
   ]
  },
  {
   "cell_type": "code",
   "execution_count": 10,
   "metadata": {},
   "outputs": [],
   "source": [
    "data.to_csv(\"full_dvjs+author.tsv\", sep=\"\\t\")"
   ]
  }
 ],
 "metadata": {
  "kernelspec": {
   "display_name": "deep",
   "language": "python",
   "name": "deep"
  },
  "language_info": {
   "codemirror_mode": {
    "name": "ipython",
    "version": 3
   },
   "file_extension": ".py",
   "mimetype": "text/x-python",
   "name": "python",
   "nbconvert_exporter": "python",
   "pygments_lexer": "ipython3",
   "version": "3.6.9"
  }
 },
 "nbformat": 4,
 "nbformat_minor": 2
}
